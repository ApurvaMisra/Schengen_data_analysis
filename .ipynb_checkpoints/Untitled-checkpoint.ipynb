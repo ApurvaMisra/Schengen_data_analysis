{
 "cells": [
  {
   "cell_type": "code",
   "execution_count": 40,
   "metadata": {},
   "outputs": [
    {
     "name": "stdout",
     "output_type": "stream",
     "text": [
      "jun.png\n",
      "oct.png\n",
      "aug.png\n",
      "may.png\n",
      "jul.png\n",
      "jan.png\n",
      "feb.png\n",
      "apr.png\n",
      "sep.png\n"
     ]
    }
   ],
   "source": [
    "import imageio\n",
    "import os,sys,re\n",
    "images = []\n",
    "path=\"/home/apurva/Documents/Code/Schengen_data_analysis/measurement_14/\"\n",
    "dirs = os.listdir(path)\n",
    "#print(dirs)\n",
    "x = lambda a :a[-3:]==\"png\" \n",
    "dirs=filter(x,dirs)\n",
    "#print(dirs)\n",
    "for filename in dirs:\n",
    "    print(filename)\n",
    "    images.append(imageio.imread(path+filename))\n",
    "imageio.mimsave('/home/apurva/Documents/Code/Schengen_data_analysis/measurement_14/measurement_1.gif', images)"
   ]
  },
  {
   "cell_type": "code",
   "execution_count": null,
   "metadata": {},
   "outputs": [],
   "source": []
  }
 ],
 "metadata": {
  "kernelspec": {
   "display_name": "Python 3",
   "language": "python",
   "name": "python3"
  },
  "language_info": {
   "codemirror_mode": {
    "name": "ipython",
    "version": 2
   },
   "file_extension": ".py",
   "mimetype": "text/x-python",
   "name": "python",
   "nbconvert_exporter": "python",
   "pygments_lexer": "ipython2",
   "version": "2.7.12"
  }
 },
 "nbformat": 4,
 "nbformat_minor": 2
}
